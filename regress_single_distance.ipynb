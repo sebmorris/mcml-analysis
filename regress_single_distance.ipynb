{
 "cells": [
  {
   "cell_type": "code",
   "execution_count": 16,
   "metadata": {},
   "outputs": [
    {
     "name": "stdout",
     "output_type": "stream",
     "text": [
      "1.0\n"
     ]
    }
   ],
   "source": [
    "import json\n",
    "import numpy as np\n",
    "\n",
    "with open('./results/output30.json', 'r') as f:\n",
    "    data = json.load(f)\n",
    "\n",
    "refs = [e['reflectance'] for e in data]\n",
    "\n",
    "refs_mean, refs_std = np.mean(refs), np.std(refs)\n",
    "\n",
    "def norm_row(e):\n",
    "    e['reflectance'] = (e['reflectance'] - refs_mean) / refs_std\n",
    "[norm_row(e) for e in data]\n",
    "\n",
    "print(np.var([e['reflectance'] for e in data]))"
   ]
  },
  {
   "cell_type": "code",
   "execution_count": 21,
   "metadata": {},
   "outputs": [
    {
     "name": "stdout",
     "output_type": "stream",
     "text": [
      "[14.947471254386308, 1.4625927786144695, 0.26745541095664715, 12.938579884109068, 2.48390657411866, 1.4741173597098203, 1.471659844845569, 0.5686378671011099, 89.63252608366496]\n",
      "{'layers': [{'n': 1.4625927786144695, 'height': 14.947471254386308, 'muA': 0.26745541095664715, 'muS': 12.938579884109068, 'g': 0.9}, {'n': 1.4741173597098203, 'height': 2.48390657411866, 'muA': 0.0, 'muS': 0.2, 'g': 0.9}, {'n': 1.471659844845569, 'height': 'Infinity', 'muA': 0.5686378671011099, 'muS': 89.63252608366496, 'g': 0.9}], 'reflectance': -0.08496296887969838}\n"
     ]
    }
   ],
   "source": [
    "csf_free_vars = ['height', 'n']\n",
    "free_variabes = csf_free_vars + ['muA', 'muS']\n",
    "\n",
    "free_vars = [free_variabes, csf_free_vars, free_variabes[1:]] # 3 layers with csf in the middle, no height for last layer\n",
    "\n",
    "x = []\n",
    "y = []\n",
    "\n",
    "row = data[0]\n",
    "x.append([row['reflectance']])\n",
    "\n",
    "coord = []\n",
    "for i, free in enumerate(free_vars):\n",
    "    coord += [row['layers'][i][e] for e in free]\n",
    "\n",
    "print(coord)\n",
    "print(row)"
   ]
  }
 ],
 "metadata": {
  "kernelspec": {
   "display_name": "Python 3.9.13 ('base')",
   "language": "python",
   "name": "python3"
  },
  "language_info": {
   "codemirror_mode": {
    "name": "ipython",
    "version": 3
   },
   "file_extension": ".py",
   "mimetype": "text/x-python",
   "name": "python",
   "nbconvert_exporter": "python",
   "pygments_lexer": "ipython3",
   "version": "3.9.13"
  },
  "orig_nbformat": 4,
  "vscode": {
   "interpreter": {
    "hash": "216409cfbc3717ffa79c3727b80462d00f1b65783cba4371df1b0823cf223bb4"
   }
  }
 },
 "nbformat": 4,
 "nbformat_minor": 2
}
