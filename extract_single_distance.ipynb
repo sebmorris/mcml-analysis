{
 "cells": [
  {
   "cell_type": "code",
   "execution_count": 2,
   "metadata": {},
   "outputs": [],
   "source": [
    "import numpy as np\n",
    "import matplotlib.pyplot as plt\n",
    "import json\n",
    "from google.protobuf.json_format import MessageToDict\n",
    "from helpers.read import Db\n",
    "\n",
    "db_name = 'fixed_n_high_precision'\n",
    "db  = Db('./' + db_name + '.db')\n",
    "gen = db.rows()\n",
    "target_distance = 30\n",
    "\n",
    "def format_layer(layer):\n",
    "    return MessageToDict(layer)    \n",
    "\n",
    "def format_doc(reflectance, layers):\n",
    "    return {\n",
    "        \"layers\": [format_layer(layer) for layer in layers],\n",
    "        \"reflectance\": reflectance\n",
    "    }\n",
    "\n",
    "\n",
    "docs = []\n",
    "\n",
    "for sim in gen:\n",
    "    ref = np.asarray(sim.reflectance)\n",
    "    abs = np.asarray(sim.absorption).reshape((100, 100))\n",
    "\n",
    "    radial_extent = sim.details.radialExtent\n",
    "    bin_size = (radial_extent.max - radial_extent.min) / 100\n",
    "    i = np.floor(target_distance / bin_size).astype(int)\n",
    "\n",
    "    docs.append(format_doc(ref[i], sim.details.layers))\n",
    "\n",
    "with open('./results/' + db_name + str(target_distance) + '.json', 'w', encoding='utf-8') as f:\n",
    "    json.dump(docs, f, ensure_ascii=False, indent=4)\n"
   ]
  }
 ],
 "metadata": {
  "kernelspec": {
   "display_name": "Python 3.9.13 ('base')",
   "language": "python",
   "name": "python3"
  },
  "language_info": {
   "codemirror_mode": {
    "name": "ipython",
    "version": 3
   },
   "file_extension": ".py",
   "mimetype": "text/x-python",
   "name": "python",
   "nbconvert_exporter": "python",
   "pygments_lexer": "ipython3",
   "version": "3.9.13"
  },
  "orig_nbformat": 4,
  "vscode": {
   "interpreter": {
    "hash": "216409cfbc3717ffa79c3727b80462d00f1b65783cba4371df1b0823cf223bb4"
   }
  }
 },
 "nbformat": 4,
 "nbformat_minor": 2
}
