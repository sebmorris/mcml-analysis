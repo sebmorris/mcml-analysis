{
 "cells": [
  {
   "cell_type": "code",
   "execution_count": 3,
   "metadata": {},
   "outputs": [],
   "source": [
    "\n",
    "# different\n",
    "\"\"\"one = {\n",
    "    \"blood\": 20,\n",
    "    \"blood_sat\": 0.8,\n",
    "    \"a\": 24.2,\n",
    "    \"b\": 1.6,\n",
    "    \"lipid_frac\": 0.5,\n",
    "    \"water_frac\": 0.5\n",
    "}\n",
    "one_height = 1\n",
    "\n",
    "two = one.copy()\n",
    "two['blood'] = 50\n",
    "two['a'] = 30\n",
    "two['b'] = 1.0\n",
    "two_height = 1e8\"\"\"\n",
    "\n",
    "# same\n",
    "\n",
    "one = {\n",
    "    \"blood\": 20,\n",
    "    \"blood_sat\": 0.8,\n",
    "    \"a\": 24.2,\n",
    "    \"b\": 1.6,\n",
    "    \"lipid_frac\": 0.5,\n",
    "    \"water_frac\": 0.5\n",
    "}\n",
    "two = one.copy()\n",
    "\n",
    "\n",
    "one_height = 1\n",
    "two_height = 1e8"
   ]
  },
  {
   "cell_type": "code",
   "execution_count": 4,
   "metadata": {},
   "outputs": [],
   "source": [
    "import pandas as pd\n",
    "import random\n",
    "import pymc as pm\n",
    "import numpy as np\n",
    "import matplotlib.pyplot as plt\n",
    "from helpers.interpolate_extinction_coeffs import extinction_coeffs\n",
    "from helpers.mci_files import create_layer_dict, createMciString\n",
    "\n",
    "n = 1.4\n",
    "g = 0.9\n",
    "csf_scatter = 1.0\n",
    "csf_abs = 0.0\n",
    "wls = np.arange(740, 902, 2) \n",
    "_, (water_ex, oxy_ex, deoxy_ex, lipid_ex) = extinction_coeffs(wls)\n",
    "\n",
    "add_postfix = lambda arr, postfix: [e + postfix for e in arr]\n",
    "extract_keys = lambda sample, keys: [float(sample[e]) for e in keys]\n",
    "\n",
    "csf_heights = [0.1, 0.2, 0.5, 1.0]\n",
    "\n",
    "basename = 'same'\n",
    "\n",
    "absorption = [e['water_frac']*55.5*water_ex + e['blood']*1e-6*(e['blood_sat']*oxy_ex + (1-e['blood_sat'])*deoxy_ex)+ e['lipid_frac']*lipid_ex for e in [one, two]]\n",
    "scattering = [e['a']*(wls/500.0)**(-e['b'])/(1-g) for e in [one, two]]\n",
    "\n",
    "layer_collections = []\n",
    "for d in csf_heights:\n",
    "    layers_arr = []\n",
    "    for i in range(len(absorption[0])):\n",
    "        layers_arr.append([\n",
    "            create_layer_dict(n, absorption[0][i], scattering[0][i], g, one_height),\n",
    "            create_layer_dict(n, csf_abs, csf_scatter, g, d),\n",
    "            create_layer_dict(n, absorption[1][i], scattering[1][i], g, two_height)\n",
    "        ])\n",
    "    layer_collections.append(layers_arr)\n",
    "\n",
    "file_names = [[f'{basename}_output/{basename}_{int(h*10)}_{i}' for i in range(len(absorption[0]))] for h in csf_heights]\n",
    "\n",
    "for run, names, h in zip(layer_collections, file_names, csf_heights):\n",
    "    with open(f\"./sims/{basename}_variable_layers/{basename}_{int(h*10)}.mci\", 'w') as f:\n",
    "        f.write(createMciString(run, names, number_photons=1e8))"
   ]
  }
 ],
 "metadata": {
  "kernelspec": {
   "display_name": "Python 3.10.11 64-bit",
   "language": "python",
   "name": "python3"
  },
  "language_info": {
   "codemirror_mode": {
    "name": "ipython",
    "version": 3
   },
   "file_extension": ".py",
   "mimetype": "text/x-python",
   "name": "python",
   "nbconvert_exporter": "python",
   "pygments_lexer": "ipython3",
   "version": "3.10.11"
  },
  "orig_nbformat": 4,
  "vscode": {
   "interpreter": {
    "hash": "e7370f93d1d0cde622a1f8e1c04877d8463912d04d973331ad4851f04de6915a"
   }
  }
 },
 "nbformat": 4,
 "nbformat_minor": 2
}
