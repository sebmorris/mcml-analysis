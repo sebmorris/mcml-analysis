{
 "cells": [
  {
   "cell_type": "code",
   "execution_count": 1,
   "metadata": {},
   "outputs": [
    {
     "name": "stderr",
     "output_type": "stream",
     "text": [
      "Sampling: [LW_frac, a, b, blood, blood_sat, water_over_lipid_frac]\n"
     ]
    }
   ],
   "source": [
    "import pymc as pm\n",
    "import numpy as np\n",
    "import matplotlib.pyplot as plt\n",
    "from helpers.interpolate_extinction_coeffs import extinction_coeffs\n",
    "from helpers.mci_files import create_layer_dict, createMciString\n",
    "\n",
    "n = 1.4\n",
    "g = 0.9\n",
    "csf_scatter = 1.0\n",
    "csf_abs = 0.0\n",
    "water_moles_per_liter = 55.5\n",
    "wls = np.arange(740, 902, 2) \n",
    "_, (water_ex, oxy_ex, deoxy_ex, lipid_ex) = extinction_coeffs(wls)\n",
    "\n",
    "N = 500\n",
    "\n",
    "# maybe need to include melanin afterall\n",
    "with pm.Model() as variable_layers:\n",
    "    blood = pm.Uniform('blood', lower=1, upper=100) # uM\n",
    "    # blood O2 saturation\n",
    "    blood_sat = pm.Beta('blood_sat', alpha=5, beta=2) # %\n",
    "    oxy = pm.Deterministic('oxy', blood_sat*blood) # uM\n",
    "    deoxy = pm.Deterministic('deoxy', (1 - blood_sat)*blood) #u uM\n",
    "\n",
    "    # fractions as percentages\n",
    "    lw_frac = pm.Beta('LW_frac', alpha=5, beta=2)\n",
    "    w_over_lw_frac = pm.Beta('water_over_lipid_frac', alpha=2, beta=2)\n",
    "    water_frac = pm.Deterministic('water_frac', lw_frac*w_over_lw_frac)\n",
    "    lipid_frac = pm.Deterministic('lipid_frac', w_over_lw_frac - water_frac)\n",
    "\n",
    "    # abs all in cm-1\n",
    "    water_abs = pm.Deterministic('water_abs', water_frac*water_moles_per_liter*water_ex) \n",
    "    oxy_abs = pm.Deterministic('oxy_abs', oxy*oxy_ex*1e-6)\n",
    "    deoxy_abs = pm.Deterministic('deoxy_abs', deoxy*deoxy_ex*1e-6)\n",
    "    lipid_abs = pm.Deterministic('lipid_abs', lipid_frac*lipid_ex)\n",
    "    absorption = pm.Deterministic('absorption',\n",
    "        water_abs + oxy_abs + deoxy_abs + lipid_abs\n",
    "    )\n",
    "\n",
    "    a = pm.Uniform('a', lower=5, upper=60)\n",
    "    b = pm.Uniform('b', lower=0.2, upper=3)\n",
    "\n",
    "    scattering = pm.Deterministic('scattering',\n",
    "        a*(wls/500.0)**(-b)/(1-g)\n",
    "    )\n",
    "\n",
    "    samples = pm.sample_prior_predictive(samples=N*2)['prior']"
   ]
  },
  {
   "cell_type": "markdown",
   "metadata": {},
   "source": [
    "Importantly, the following code cell is used to either set constant csf and skin-scalp layer sizes (for analysis in abc_fixed) or sample these heights from distributions (for analysis in abc.ipynb)\n",
    "\n",
    "The irrelevant lines should be commented out"
   ]
  },
  {
   "cell_type": "code",
   "execution_count": null,
   "metadata": {},
   "outputs": [],
   "source": [
    "sampleCSFHeight = lambda: pm.draw(pm.Uniform.dist(lower=0.1, upper=1.0))\n",
    "sampleSkinScalpHeight = lambda: pm.draw(pm.Uniform.dist(lower=0.5, upper=1.5))\n",
    "\n",
    "#sampleCSFHeight = lambda: 0.2\n",
    "#sampleSkinScalpHeight = lambda: 1.0"
   ]
  },
  {
   "cell_type": "code",
   "execution_count": 6,
   "metadata": {},
   "outputs": [],
   "source": [
    "import pandas as pd\n",
    "import string\n",
    "import random\n",
    "\n",
    "add_postfix = lambda arr, postfix: [e + postfix for e in arr]\n",
    "extract_keys = lambda sample, keys: [float(sample[e]) for e in keys]\n",
    "random_id = lambda: \"\".join(random.choice(string.ascii_lowercase) for i in range(12))\n",
    "\n",
    "bottom_height = 1e8\n",
    "\n",
    "shared_props = \"n\", \"g\"\n",
    "variable_layer_props = \"blood\", \"blood_sat\", \"a\", \"b\", \"lipid_frac\", \"water_frac\", \"height\"\n",
    "constant_layer_props = \"height\", \"mu_a\", \"mu_s\"\n",
    "\n",
    "file_postfix = \"_hello_world\"\n",
    "\n",
    "col_names = [\n",
    "    \"uuid\", *shared_props, *add_postfix(variable_layer_props, '_one'), *add_postfix(variable_layer_props, '_two'),\n",
    "    *add_postfix(constant_layer_props, '_csf')\n",
    "]\n",
    "\n",
    "def createRun(samples):\n",
    "    extract_layer = lambda sample, height: \\\n",
    "        [(n, float(sample['absorption'][i]), float(sample['scattering'][i]), g, height)\n",
    "            for i in range(sample.dims['absorption_dim_0'])]\n",
    "\n",
    "    df = pd.DataFrame(columns=col_names)\n",
    "\n",
    "    draw_dim = samples.dims['draw']\n",
    "    wls_dim = samples.dims['absorption_dim_0']\n",
    "    for i in range(0, draw_dim, 2):\n",
    "        file_id = random_id()\n",
    "\n",
    "        skin_scalp_height = float(sampleSkinScalpHeight())\n",
    "        csf_height = float(sampleCSFHeight())\n",
    "\n",
    "        draw_one = samples.isel(chain=0, draw=i)\n",
    "        draw_two = samples.isel(chain=0, draw=i+1)\n",
    "\n",
    "        skin_scalp_layer = extract_layer(draw_one, skin_scalp_height)\n",
    "        csf_layer = [(n, csf_abs, csf_scatter, g, csf_height)]*wls_dim\n",
    "        brain_layer = extract_layer(draw_two, bottom_height)\n",
    "\n",
    "        layers = [[create_layer_dict(*i), create_layer_dict(*j), create_layer_dict(*k)]\n",
    "            for i, j, k in zip(skin_scalp_layer, csf_layer, brain_layer)]\n",
    "        file_names = [f\"output{file_postfix}/\" + file_id + f\"_{i}\" for i in range(wls_dim)]\n",
    "\n",
    "        part_one = extract_keys(draw_one, variable_layer_props[:-1]) + [skin_scalp_height]\n",
    "        part_csf = [csf_height, csf_abs, csf_scatter]\n",
    "        part_two = extract_keys(draw_two, variable_layer_props[:-1]) + [bottom_height]\n",
    "\n",
    "        df.loc[len(df)] =[file_id, n, g, *part_one, *part_two, *part_csf]\n",
    "        \n",
    "        with open(f\"./sims/mci{file_postfix}/{file_id}.mci\", 'w') as f:\n",
    "            f.write(createMciString(layers, file_names))\n",
    "    return df\n",
    "\n",
    "df = createRun(samples)\n",
    "\n",
    "df.to_csv(f\"./sims/df{file_postfix}.csv\")"
   ]
  }
 ],
 "metadata": {
  "kernelspec": {
   "display_name": "Python 3.11.0 ('pymc_env')",
   "language": "python",
   "name": "python3"
  },
  "language_info": {
   "codemirror_mode": {
    "name": "ipython",
    "version": 3
   },
   "file_extension": ".py",
   "mimetype": "text/x-python",
   "name": "python",
   "nbconvert_exporter": "python",
   "pygments_lexer": "ipython3",
   "version": "3.11.0"
  },
  "orig_nbformat": 4,
  "vscode": {
   "interpreter": {
    "hash": "cc2aa267a6b7bc06e550b7c0f29c5d10eee09918886e0242da9b02b2a9ee0db7"
   }
  }
 },
 "nbformat": 4,
 "nbformat_minor": 2
}
