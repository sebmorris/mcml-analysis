{
 "cells": [
  {
   "cell_type": "code",
   "execution_count": 4,
   "metadata": {},
   "outputs": [
    {
     "name": "stderr",
     "output_type": "stream",
     "text": [
      "Sampling: [a, b, blood, blood_sat, lipid_frac, water_frac]\n"
     ]
    }
   ],
   "source": [
    "import pymc as pm\n",
    "import numpy as np\n",
    "import matplotlib.pyplot as plt\n",
    "from helpers.interpolate_extinction_coeffs import extinction_coeffs\n",
    "from helpers.mci_files import create_layer_dict, createMciString\n",
    "\n",
    "n = 1.4\n",
    "g = 0.9\n",
    "csf_scatter = 1.0\n",
    "csf_abs = 0.0\n",
    "wls = np.arange(740, 902, 2) \n",
    "_, (water_ex, oxy_ex, deoxy_ex, lipid_ex) = extinction_coeffs(wls)\n",
    "\n",
    "N = 2000\n",
    "\n",
    "# maybe need to include melanin afterall\n",
    "with pm.Model() as variable_layers:\n",
    "    blood = pm.TruncatedNormal('blood', mu=40, lower=1, upper=100, sigma=40)\n",
    "    blood_sat = pm.Beta('blood_sat', alpha=2, beta=5)\n",
    "    oxy = pm.Deterministic('oxy', blood_sat*blood)\n",
    "    deoxy = pm.Deterministic('deoxy', (1 - blood_sat)*blood)\n",
    "\n",
    "    water_frac = pm.Beta('water_frac', alpha=2, beta=5)\n",
    "    lipid_frac = pm.Beta('lipid_frac', alpha=2, beta=2)\n",
    "\n",
    "    water_abs = pm.Deterministic('water_abs', water_frac*55.5*water_ex)\n",
    "    oxy_abs = pm.Deterministic('oxy_abs', oxy*oxy_ex*1e-6)\n",
    "    deoxy_abs = pm.Deterministic('deoxy_abs', deoxy*deoxy_ex*1e-6)\n",
    "    lipid_abs = pm.Deterministic('lipid_abs', lipid_frac*lipid_ex)\n",
    "    absorption = pm.Deterministic('absorption',\n",
    "        water_abs + oxy_abs + deoxy_abs + lipid_abs\n",
    "    )\n",
    "\n",
    "    a = pm.Uniform('a', lower=5, upper=60)\n",
    "    b = pm.Uniform('b', lower=0.2, upper=3)\n",
    "\n",
    "    scattering = pm.Deterministic('scattering',\n",
    "        a*(wls/500.0)**(-b)/(1-g)\n",
    "    )\n",
    "\n",
    "    samples = pm.sample_prior_predictive(samples=N*2)['prior']\n",
    "\n",
    "sampleCSFHeight = lambda: pm.draw(pm.Uniform.dist(lower=0.1, upper=1.0))\n",
    "sampleSkinScalpHeight = lambda: pm.draw(pm.Uniform.dist(lower=0.5, upper=1.5))"
   ]
  },
  {
   "cell_type": "code",
   "execution_count": 5,
   "metadata": {},
   "outputs": [
    {
     "ename": "FileNotFoundError",
     "evalue": "[Errno 2] No such file or directory: './sims/notusing/pemgfmjh.mci'",
     "output_type": "error",
     "traceback": [
      "\u001b[0;31m---------------------------------------------------------------------------\u001b[0m",
      "\u001b[0;31mFileNotFoundError\u001b[0m                         Traceback (most recent call last)",
      "Cell \u001b[0;32mIn[5], line 54\u001b[0m\n\u001b[1;32m     51\u001b[0m             f\u001b[39m.\u001b[39mwrite(createMciString(layers, file_names))\n\u001b[1;32m     52\u001b[0m     \u001b[39mreturn\u001b[39;00m df\n\u001b[0;32m---> 54\u001b[0m df \u001b[39m=\u001b[39m createRun(samples)\n\u001b[1;32m     56\u001b[0m df\u001b[39m.\u001b[39mto_csv(\u001b[39m'\u001b[39m\u001b[39m./sims/df_2000.csv\u001b[39m\u001b[39m'\u001b[39m)\n",
      "Cell \u001b[0;32mIn[5], line 50\u001b[0m, in \u001b[0;36mcreateRun\u001b[0;34m(samples)\u001b[0m\n\u001b[1;32m     46\u001b[0m     part_two \u001b[39m=\u001b[39m extract_keys(draw_one, variable_layer_props[:\u001b[39m-\u001b[39m\u001b[39m1\u001b[39m]) \u001b[39m+\u001b[39m [bottom_height]\n\u001b[1;32m     48\u001b[0m     df\u001b[39m.\u001b[39mloc[\u001b[39mlen\u001b[39m(df)] \u001b[39m=\u001b[39m[file_id, n, g, \u001b[39m*\u001b[39mpart_one, \u001b[39m*\u001b[39mpart_two, \u001b[39m*\u001b[39mpart_csf]\n\u001b[0;32m---> 50\u001b[0m     \u001b[39mwith\u001b[39;00m \u001b[39mopen\u001b[39;49m(\u001b[39mf\u001b[39;49m\u001b[39m\"\u001b[39;49m\u001b[39m./sims/notusing/\u001b[39;49m\u001b[39m{\u001b[39;49;00mfile_id\u001b[39m}\u001b[39;49;00m\u001b[39m.mci\u001b[39;49m\u001b[39m\"\u001b[39;49m, \u001b[39m'\u001b[39;49m\u001b[39mw\u001b[39;49m\u001b[39m'\u001b[39;49m) \u001b[39mas\u001b[39;00m f:\n\u001b[1;32m     51\u001b[0m         f\u001b[39m.\u001b[39mwrite(createMciString(layers, file_names))\n\u001b[1;32m     52\u001b[0m \u001b[39mreturn\u001b[39;00m df\n",
      "File \u001b[0;32m~/anaconda3/envs/pymc_env/lib/python3.11/site-packages/IPython/core/interactiveshell.py:282\u001b[0m, in \u001b[0;36m_modified_open\u001b[0;34m(file, *args, **kwargs)\u001b[0m\n\u001b[1;32m    275\u001b[0m \u001b[39mif\u001b[39;00m file \u001b[39min\u001b[39;00m {\u001b[39m0\u001b[39m, \u001b[39m1\u001b[39m, \u001b[39m2\u001b[39m}:\n\u001b[1;32m    276\u001b[0m     \u001b[39mraise\u001b[39;00m \u001b[39mValueError\u001b[39;00m(\n\u001b[1;32m    277\u001b[0m         \u001b[39mf\u001b[39m\u001b[39m\"\u001b[39m\u001b[39mIPython won\u001b[39m\u001b[39m'\u001b[39m\u001b[39mt let you open fd=\u001b[39m\u001b[39m{\u001b[39;00mfile\u001b[39m}\u001b[39;00m\u001b[39m by default \u001b[39m\u001b[39m\"\u001b[39m\n\u001b[1;32m    278\u001b[0m         \u001b[39m\"\u001b[39m\u001b[39mas it is likely to crash IPython. If you know what you are doing, \u001b[39m\u001b[39m\"\u001b[39m\n\u001b[1;32m    279\u001b[0m         \u001b[39m\"\u001b[39m\u001b[39myou can use builtins\u001b[39m\u001b[39m'\u001b[39m\u001b[39m open.\u001b[39m\u001b[39m\"\u001b[39m\n\u001b[1;32m    280\u001b[0m     )\n\u001b[0;32m--> 282\u001b[0m \u001b[39mreturn\u001b[39;00m io_open(file, \u001b[39m*\u001b[39;49margs, \u001b[39m*\u001b[39;49m\u001b[39m*\u001b[39;49mkwargs)\n",
      "\u001b[0;31mFileNotFoundError\u001b[0m: [Errno 2] No such file or directory: './sims/notusing/pemgfmjh.mci'"
     ]
    }
   ],
   "source": [
    "import pandas as pd\n",
    "import random\n",
    "\n",
    "add_postfix = lambda arr, postfix: [e + postfix for e in arr]\n",
    "extract_keys = lambda sample, keys: [float(sample[e]) for e in keys]\n",
    "random_id = lambda: \"\".join(random.choice('abcdefghijklmnop') for i in range(8))\n",
    "\n",
    "shared_props = \"n\", \"g\"\n",
    "variable_layer_props = \"blood\", \"blood_sat\", \"a\", \"b\", \"lipid_frac\", \"water_frac\", \"height\"\n",
    "constant_layer_props = \"height\", \"mu_a\", \"mu_s\"\n",
    "\n",
    "col_names = [\n",
    "    \"uuid\", *shared_props, *add_postfix(variable_layer_props, '_one'), *add_postfix(variable_layer_props, '_two'),\n",
    "    *add_postfix(constant_layer_props, '_csf')\n",
    "]\n",
    "\n",
    "def createRun(samples):\n",
    "    extract_layer = lambda sample, height: \\\n",
    "        [(n, float(sample['absorption'][i]), float(sample['scattering'][i]), g, height)\n",
    "            for i in range(sample.dims['absorption_dim_0'])]\n",
    "\n",
    "    df = pd.DataFrame(columns=col_names)\n",
    "\n",
    "    draw_dim = samples.dims['draw']\n",
    "    wls_dim = samples.dims['absorption_dim_0']\n",
    "    for i in range(0, draw_dim, 2):\n",
    "        file_id = random_id()\n",
    "\n",
    "        skin_scalp_height = float(sampleSkinScalpHeight())\n",
    "        csf_height = float(sampleCSFHeight())\n",
    "        bottom_height = 1e8\n",
    "\n",
    "        draw_one = samples.isel(chain=0, draw=i)\n",
    "        draw_two = samples.isel(chain=0, draw=i+1)\n",
    "\n",
    "        skin_scalp_layer = extract_layer(draw_one, skin_scalp_height)\n",
    "        csf_layer = [(n, csf_abs, csf_scatter, g, csf_height)]*wls_dim\n",
    "        brain_layer = extract_layer(draw_two, bottom_height)\n",
    "\n",
    "        layers = [[create_layer_dict(*i), create_layer_dict(*j), create_layer_dict(*k)]\n",
    "            for i, j, k in zip(skin_scalp_layer, csf_layer, brain_layer)]\n",
    "        file_names = [\"output/\" + file_id + f\"_{i}\" for i in range(wls_dim)]\n",
    "\n",
    "        part_one = extract_keys(draw_one, variable_layer_props[:-1]) + [skin_scalp_height]\n",
    "        part_csf = [csf_height, csf_abs, csf_scatter]\n",
    "        part_two = extract_keys(draw_one, variable_layer_props[:-1]) + [bottom_height]\n",
    "\n",
    "        df.loc[len(df)] =[file_id, n, g, *part_one, *part_two, *part_csf]\n",
    "        \n",
    "        with open(f\"./sims/notusing/{file_id}.mci\", 'w') as f:\n",
    "            f.write(createMciString(layers, file_names))\n",
    "    return df\n",
    "\n",
    "df = createRun(samples)\n",
    "\n",
    "df.to_csv('./sims/df_2000.csv')"
   ]
  }
 ],
 "metadata": {
  "kernelspec": {
   "display_name": "Python 3.11.0 ('pymc_env')",
   "language": "python",
   "name": "python3"
  },
  "language_info": {
   "codemirror_mode": {
    "name": "ipython",
    "version": 3
   },
   "file_extension": ".py",
   "mimetype": "text/x-python",
   "name": "python",
   "nbconvert_exporter": "python",
   "pygments_lexer": "ipython3",
   "version": "3.11.0"
  },
  "orig_nbformat": 4,
  "vscode": {
   "interpreter": {
    "hash": "cc2aa267a6b7bc06e550b7c0f29c5d10eee09918886e0242da9b02b2a9ee0db7"
   }
  }
 },
 "nbformat": 4,
 "nbformat_minor": 2
}
